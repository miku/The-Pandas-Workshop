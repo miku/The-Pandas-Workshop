{
  "nbformat": 4,
  "nbformat_minor": 0,
  "metadata": {
    "colab": {
      "name": "PandasWorkshop.ipynb",
      "provenance": [],
      "collapsed_sections": []
    },
    "kernelspec": {
      "name": "python3",
      "display_name": "Python 3"
    }
  },
  "cells": [
    {
      "cell_type": "code",
      "metadata": {
        "id": "tHiCnh0QkBdH",
        "colab_type": "code",
        "colab": {}
      },
      "source": [
        "# Importing pandas and numpy library\n",
        "import pandas as pd\n",
        "import numpy as np"
      ],
      "execution_count": 0,
      "outputs": []
    },
    {
      "cell_type": "code",
      "metadata": {
        "id": "ucmdNlQ2ksED",
        "colab_type": "code",
        "colab": {}
      },
      "source": [
        "# Importing pandas library with alias name pd\n",
        "import pandas as pd\n",
        "\n",
        "# Defining series with different formats of data and default numeric index starting from zero\n",
        "series1 = pd.Series([10, 25, 19, 47])\n",
        "series2 = pd.Series([\"corona\", \"marburg\", \"ebola\", \"rabies\"])\n",
        "series3 = pd.Series([True, False, False, True])\n",
        "\n",
        "# Defining series with different index formats\n",
        "series4 = pd.Series([10, 25, 19, 47], ['A', 'B', 'C', 'D'])\n",
        "series5 = pd.Series([\"corona\", \"marburg\", \"ebola\", \"rabies\"], ['Virus1', 'Virus2', 'Virus3', 'Virus4'])\n",
        "series6 = pd.Series([True, False, False, True], ['True', 'False', 'False', 'True'])\n",
        "\n",
        "# Showing values of serieses with indices\n",
        "print(\"---------- series 1 ----------\")\n",
        "print(series1)\n",
        "print(\"---------- series 2 ----------\")\n",
        "print(series2)\n",
        "print(\"---------- series 3 ----------\")\n",
        "print(series3)\n",
        "print(\"---------- series 4 ----------\")\n",
        "print(series4)\n",
        "print(\"---------- series 5 ----------\")\n",
        "print(series5)\n",
        "print(\"---------- series 6 ----------\")\n",
        "print(series6)"
      ],
      "execution_count": 0,
      "outputs": []
    },
    {
      "cell_type": "code",
      "metadata": {
        "id": "GhB6U1Q-ndyv",
        "colab_type": "code",
        "colab": {}
      },
      "source": [
        "# Importing pandas library with alias name pd\n",
        "# Importing numpy library with alias name np\n",
        "import pandas as pd\n",
        "import numpy as np\n",
        "\n",
        "# Defining a numpy array\n",
        "numpy_array = np.array([10, 25, 19, 47])\n",
        "\n",
        "# Defining series from numpy array\n",
        "series = pd.Series(numpy_array)\n",
        "\n",
        "# Showing values of numpy array and series\n",
        "print(\"---------- numpy array ----------\")\n",
        "print(numpy_array)\n",
        "print(\"---------- series ----------\")\n",
        "print(series)"
      ],
      "execution_count": 0,
      "outputs": []
    },
    {
      "cell_type": "code",
      "metadata": {
        "id": "T2THoftTnjHS",
        "colab_type": "code",
        "colab": {}
      },
      "source": [
        "# Importing pandas library with alias name pd\n",
        "import pandas as pd\n",
        "\n",
        "# Defining a python dictionary\n",
        "sample_dict = {'A': 10, 'B': 25, 'C': 19, 'D': 47}\n",
        "\n",
        "# Defining series from dictionary\n",
        "series = pd.Series(sample_dict)\n",
        "\n",
        "# Showing values of sample dictionary and series\n",
        "print(\"---------- sample dictionary ----------\")\n",
        "print(sample_dict)\n",
        "print(\"---------- series ----------\")\n",
        "print(series)"
      ],
      "execution_count": 0,
      "outputs": []
    },
    {
      "cell_type": "code",
      "metadata": {
        "id": "Cdhcn_Qrnngy",
        "colab_type": "code",
        "colab": {}
      },
      "source": [
        "# Importing pandas library with alias name pd\n",
        "import pandas as pd\n",
        "\n",
        "# Defining a python dictionary\n",
        "sample_dict = {'A': 10, 'B': 25, 'C': 19, 'D': 47}\n",
        "\n",
        "# Defining series from dictionary and explicit index\n",
        "series = pd.Series(sample_dict, index = ['B', 'D', 'C', 'E'])\n",
        "\n",
        "# Showing values of dictionary and series\n",
        "print(\"---------- sample dictionary ----------\")\n",
        "print(sample_dict)\n",
        "print(\"---------- series ----------\")\n",
        "print(series)"
      ],
      "execution_count": 0,
      "outputs": []
    },
    {
      "cell_type": "code",
      "metadata": {
        "id": "Fr4ilsPenqeK",
        "colab_type": "code",
        "colab": {}
      },
      "source": [
        "# Importing pandas library with alias name pd\n",
        "import pandas as pd\n",
        "\n",
        "# Defining series from a scalar value\n",
        "series = pd.Series(7)\n",
        "\n",
        "print(\"---------- series ----------\")\n",
        "print(series)"
      ],
      "execution_count": 0,
      "outputs": []
    },
    {
      "cell_type": "code",
      "metadata": {
        "id": "Ndbs96UVdXx8",
        "colab_type": "code",
        "colab": {}
      },
      "source": [
        "# Importing pandas library with alias name pd\n",
        "import pandas as pd\n",
        "\n",
        "# Defining series from list\n",
        "series = pd.Series([10, 25, 19, 47])\n",
        "\n",
        "# Showing values of series with indices\n",
        "print(\"---------- series ----------\")\n",
        "print(series)\n"
      ],
      "execution_count": 0,
      "outputs": []
    },
    {
      "cell_type": "code",
      "metadata": {
        "id": "6WNKArxYn0F6",
        "colab_type": "code",
        "colab": {}
      },
      "source": [
        "# Importing pandas library with alias name pd\n",
        "# Importing numpy library with alias name np\n",
        "import pandas as pd\n",
        "import numpy as np\n",
        "\n",
        "# Defining a numpy array\n",
        "numpy_array = np.array([['Brad', 36, 'Lawyer'], ['Madhu', 27, 'Software Developer'], ['Nitin', 29, 'Data Scientist'], ['Swarnava', 28, 'Doctor']])\n",
        "\n",
        "# Defining a DataFrame\n",
        "data_frame = pd.DataFrame(data=numpy_array, index=[\"row1\", \"row2\", \"row3\", \"row4\"], columns=[\"Name\", \"Age\", \"Profession\"])\n",
        "\n",
        "# Showing DataFrame values\n",
        "print(data_frame)"
      ],
      "execution_count": 0,
      "outputs": []
    },
    {
      "cell_type": "code",
      "metadata": {
        "id": "tNsWQzSdpGrp",
        "colab_type": "code",
        "colab": {}
      },
      "source": [
        "# Importing pandas library with alias name pd\n",
        "import pandas as pd\n",
        "\n",
        "# Defining a python dictionary\n",
        "sample_dict = {'Name': ['Brad', 'Madhu', 'Nitin', 'Swarnava'], 'Age': [36, 27, 29, 28], 'Profession': ['Lawyer', 'Software Developer', 'Data Scientist', 'Doctor']}\n",
        "\n",
        "# Defining a DataFrame\n",
        "data_frame = pd.DataFrame.from_dict(sample_dict)\n",
        "\n",
        "# Showing DataFrame values\n",
        "print(data_frame)"
      ],
      "execution_count": 0,
      "outputs": []
    },
    {
      "cell_type": "code",
      "metadata": {
        "id": "kDuyxYiHSGpW",
        "colab_type": "code",
        "colab": {}
      },
      "source": [
        "# Importing pandas library with alias name pd\n",
        "import pandas as pd\n",
        "\n",
        "# Defining a Series with only names\n",
        "series = pd.Series(['Brad', 'Madhu', 'Nitin', 'Swarnava'])\n",
        "\n",
        "# Defining a DataFrame\n",
        "data_frame = pd.DataFrame(series, columns = ['Name'])\n",
        "\n",
        "# Showing DataFrame values\n",
        "print(data_frame)"
      ],
      "execution_count": 0,
      "outputs": []
    },
    {
      "cell_type": "code",
      "metadata": {
        "id": "X92A_9Z-lucf",
        "colab_type": "code",
        "colab": {}
      },
      "source": [
        "# Importing pandas library with alias name pd\n",
        "import pandas as pd\n",
        "\n",
        "# Defining columns\n",
        "column_names = ['Name', 'Age', 'Profession']\n",
        "\n",
        "# Defining multiple Serieses\n",
        "series1 = pd.Series(['Brad', 36, 'Lawyer'], index=column_names)\n",
        "series2 = pd.Series(['Madhu', 27, 'Software Developer'], index=column_names)\n",
        "series3 = pd.Series(['Nitin', 29, 'Data Scientist'], index=column_names)\n",
        "series4 = pd.Series(['Swarnava', 28, 'Doctor'], index=column_names)\n",
        "\n",
        "# Defining a DataFrame from multiple Serieses\n",
        "data_frame = pd.DataFrame([series1, series2, series3, series4], columns=column_names)\n",
        "\n",
        "# Showing the DataFrame\n",
        "print(data_frame)"
      ],
      "execution_count": 0,
      "outputs": []
    },
    {
      "cell_type": "code",
      "metadata": {
        "id": "AuDzd_Fqm3FN",
        "colab_type": "code",
        "colab": {}
      },
      "source": [
        "# Importing pandas library with alias name pd\n",
        "import pandas as pd\n",
        " \n",
        "# Defining columns\n",
        "column_names = ['Name', 'Age', 'Profession']\n",
        "\n",
        "# Defining list\n",
        "list1 = list(['Brad', 36, 'Lawyer'])\n",
        "list2 = list(['Madhu', 27, 'Software Developer'])\n",
        "list3 = list(['Nitin', 29, 'Data Scientist'])\n",
        "list4 = list(['Swarnava', 28, 'Doctor'])\n",
        "\n",
        "# Defining a DataFrame from multiple Serieses\n",
        "data_frame = pd.DataFrame([list1, list2, list3, list4], columns=column_names)\n",
        "\n",
        "# Showing the DataFrame\n",
        "print(data_frame)"
      ],
      "execution_count": 0,
      "outputs": []
    },
    {
      "cell_type": "code",
      "metadata": {
        "id": "qJ0wRueNAXnc",
        "colab_type": "code",
        "colab": {}
      },
      "source": [
        "# Importing pandas and StringIO libraries\n",
        "import pandas as pd\n",
        "from io import StringIO\n",
        " \n",
        "# Defining text data\n",
        "text_data = ('col1,col2,col3,col4\\n'\n",
        "            'A,0,X,7\\n'\n",
        "            'B,1,Y,8\\n'\n",
        "            'C,2,Z,9')\n",
        " \n",
        "# Reading text data (csv) and storing it in a DataFrame\n",
        "data_frame = pd.read_csv(StringIO(text_data))\n",
        "\n",
        "# Showing the DataFrame\n",
        "print(data_frame)"
      ],
      "execution_count": 0,
      "outputs": []
    },
    {
      "cell_type": "code",
      "metadata": {
        "id": "XQb-HN7rL9zS",
        "colab_type": "code",
        "colab": {}
      },
      "source": [
        "# Importing pandas library with alias name pd\n",
        "import pandas as pd\n",
        "\n",
        "# Reading csv file\n",
        "data_frame = pd.read_csv('02-14-2020_1123.csv'); \n",
        "\n",
        "# Showing DataFrame values\n",
        "print('---------- DataFrame ----------')\n",
        "print(data_frame[['Province/State', 'Last Update', 'Confirmed', 'Recovered']])\n",
        "\n",
        "# Showing data types\n",
        "print('---------- DataFrame columns data types ----------')\n",
        "print(data_frame.dtypes)"
      ],
      "execution_count": 0,
      "outputs": []
    },
    {
      "cell_type": "code",
      "metadata": {
        "id": "2Zbwd0eintwK",
        "colab_type": "code",
        "colab": {}
      },
      "source": [
        "# Importing pandas library with alias name pd\n",
        "import pandas as pd\n",
        "\n",
        "# Defining series with character index formats\n",
        "series = pd.Series([10, 25, 19, 47], ['A', 'B', 'C', 'D'])\n",
        "\n",
        "# Showing third value in the series using index position\n",
        "print(series[2])\n"
      ],
      "execution_count": 0,
      "outputs": []
    },
    {
      "cell_type": "code",
      "metadata": {
        "id": "FjXpXmnqn-25",
        "colab_type": "code",
        "colab": {}
      },
      "source": [
        "# Importing pandas library with alias name pd\n",
        "import pandas as pd\n",
        "\n",
        "# Defining series with character index formats\n",
        "series = pd.Series([10, 25, 19, 47], ['A', 'B', 'C', 'D'])\n",
        "\n",
        "# Showing third value in the series using index position\n",
        "print(series[1:3])\n"
      ],
      "execution_count": 0,
      "outputs": []
    },
    {
      "cell_type": "code",
      "metadata": {
        "id": "E1-2VC7hnwty",
        "colab_type": "code",
        "colab": {}
      },
      "source": [
        "# Importing pandas library with alias name pd\n",
        "import pandas as pd\n",
        "\n",
        "# Defining series with character index formats\n",
        "series = pd.Series([10, 25, 19, 47], ['A', 'B', 'C', 'D'])\n",
        "\n",
        "# Showing third value in the series using index label\n",
        "print(series['C'])\n"
      ],
      "execution_count": 0,
      "outputs": []
    },
    {
      "cell_type": "code",
      "metadata": {
        "id": "yw_4KuHHYZog",
        "colab_type": "code",
        "colab": {}
      },
      "source": [
        "# Importing pandas library with alias name pd\n",
        "import pandas as pd\n",
        " \n",
        "# Defining columns\n",
        "column_names = ['Name', 'Age', 'Profession']\n",
        "\n",
        "# Defining list\n",
        "list1 = list(['Brad', 36, 'Lawyer'])\n",
        "list2 = list(['Madhu', 27, 'Software Developer'])\n",
        "list3 = list(['Nitin', 29, 'Data Scientist'])\n",
        "list4 = list(['Swarnava', 28, 'Doctor'])\n",
        "\n",
        "# Defining a DataFrame from multiple Serieses\n",
        "data_frame = pd.DataFrame([list1, list2, list3, list4], columns=column_names)\n",
        "\n",
        "# Showing the selected values from DataFrame\n",
        "print(data_frame[1:2])"
      ],
      "execution_count": 0,
      "outputs": []
    },
    {
      "cell_type": "code",
      "metadata": {
        "id": "LrBSLLipYbH7",
        "colab_type": "code",
        "colab": {}
      },
      "source": [
        "# Importing pandas library with alias name pd\n",
        "import pandas as pd\n",
        " \n",
        "# Defining columns\n",
        "column_names = ['Name', 'Age', 'Profession']\n",
        "\n",
        "# Defining list\n",
        "list1 = list(['Brad', 36, 'Lawyer'])\n",
        "list2 = list(['Madhu', 27, 'Software Developer'])\n",
        "list3 = list(['Nitin', 29, 'Data Scientist'])\n",
        "list4 = list(['Swarnava', 28, 'Doctor'])\n",
        "\n",
        "# Defining a DataFrame from multiple Serieses\n",
        "data_frame = pd.DataFrame([list1, list2, list3, list4], columns=column_names)\n",
        "\n",
        "# Showing the selected values from DataFrame\n",
        "print(data_frame[0:5:2])"
      ],
      "execution_count": 0,
      "outputs": []
    },
    {
      "cell_type": "code",
      "metadata": {
        "id": "3h-nXO9Lu2qG",
        "colab_type": "code",
        "colab": {}
      },
      "source": [
        "# Importing pandas library with alias name pd\n",
        "import pandas as pd\n",
        " \n",
        "# Defining columns\n",
        "column_names = ['Name', 'Age', 'Profession']\n",
        "\n",
        "# Defining index labels\n",
        "index_labels = ['row1', 'row2', 'row3', 'row4']\n",
        "\n",
        "# Defining list\n",
        "list1 = list(['Brad', 36, 'Lawyer'])\n",
        "list2 = list(['Madhu', 27, 'Software Developer'])\n",
        "list3 = list(['Nitin', 29, 'Data Scientist'])\n",
        "list4 = list(['Swarnava', 28, 'Doctor'])\n",
        "\n",
        "# Defining a DataFrame from multiple Serieses\n",
        "data_frame = pd.DataFrame([list1, list2, list3, list4], index=index_labels, columns=column_names)\n",
        "\n",
        "# Showing the selected values from DataFrame\n",
        "print(data_frame.loc['row1',:])"
      ],
      "execution_count": 0,
      "outputs": []
    },
    {
      "cell_type": "code",
      "metadata": {
        "id": "FZ8acH83zu5W",
        "colab_type": "code",
        "colab": {}
      },
      "source": [
        "# Importing pandas library with alias name pd\n",
        "import pandas as pd\n",
        " \n",
        "# Defining columns\n",
        "column_names = ['Name', 'Age', 'Profession']\n",
        "\n",
        "# Defining index labels\n",
        "index_labels = ['row1', 'row2', 'row3', 'row4']\n",
        "\n",
        "# Defining list\n",
        "list1 = list(['Brad', 36, 'Lawyer'])\n",
        "list2 = list(['Madhu', 27, 'Software Developer'])\n",
        "list3 = list(['Nitin', 29, 'Data Scientist'])\n",
        "list4 = list(['Swarnava', 28, 'Doctor'])\n",
        "\n",
        "# Defining a DataFrame from multiple Serieses\n",
        "data_frame = pd.DataFrame([list1, list2, list3, list4], index=index_labels, columns=column_names)\n",
        "\n",
        "# Showing the selected values from DataFrame\n",
        "print(data_frame.loc['row1',::2])"
      ],
      "execution_count": 0,
      "outputs": []
    },
    {
      "cell_type": "code",
      "metadata": {
        "id": "Fd9v7yi4hMvp",
        "colab_type": "code",
        "colab": {}
      },
      "source": [
        "# Importing pandas library with alias name pd\n",
        "import pandas as pd\n",
        " \n",
        "# Defining columns\n",
        "column_names = ['Name', 'Age', 'Profession']\n",
        "\n",
        "# Defining list\n",
        "list1 = list(['Brad', 36, 'Lawyer'])\n",
        "list2 = list(['Madhu', 27, 'Software Developer'])\n",
        "list3 = list(['Nitin', 29, 'Data Scientist'])\n",
        "list4 = list(['Swarnava', 28, 'Doctor'])\n",
        "\n",
        "# Defining a DataFrame from multiple Serieses\n",
        "data_frame = pd.DataFrame([list1, list2, list3, list4], columns=column_names)\n",
        "\n",
        "# Showing the selected values from DataFrame\n",
        "print(data_frame['Name'])"
      ],
      "execution_count": 0,
      "outputs": []
    },
    {
      "cell_type": "code",
      "metadata": {
        "id": "kApEa2YEquhE",
        "colab_type": "code",
        "colab": {}
      },
      "source": [
        "# Importing pandas library with alias name pd\n",
        "import pandas as pd\n",
        " \n",
        "# Defining columns\n",
        "column_names = ['Name', 'Age', 'Profession']\n",
        "\n",
        "# Defining list\n",
        "list1 = list(['Brad', 36, 'Lawyer'])\n",
        "list2 = list(['Madhu', 27, 'Software Developer'])\n",
        "list3 = list(['Nitin', 29, 'Data Scientist'])\n",
        "list4 = list(['Swarnava', 28, 'Doctor'])\n",
        "\n",
        "# Defining a DataFrame from multiple Serieses\n",
        "data_frame = pd.DataFrame([list1, list2, list3, list4], columns=column_names)\n",
        "\n",
        "# Showing the selected values from DataFrame\n",
        "print(data_frame['Name'][0:2])"
      ],
      "execution_count": 0,
      "outputs": []
    },
    {
      "cell_type": "code",
      "metadata": {
        "id": "YL9xnIEns5Sf",
        "colab_type": "code",
        "colab": {}
      },
      "source": [
        "# Importing pandas library with alias name pd\n",
        "import pandas as pd\n",
        " \n",
        "# Defining columns\n",
        "column_names = ['Name', 'Age', 'Profession']\n",
        "\n",
        "# Defining index labels\n",
        "index_labels = ['row1', 'row2', 'row3', 'row4']\n",
        "\n",
        "# Defining list\n",
        "list1 = list(['Brad', 36, 'Lawyer'])\n",
        "list2 = list(['Madhu', 27, 'Software Developer'])\n",
        "list3 = list(['Nitin', 29, 'Data Scientist'])\n",
        "list4 = list(['Swarnava', 28, 'Doctor'])\n",
        "\n",
        "# Defining a DataFrame from multiple Serieses\n",
        "data_frame = pd.DataFrame([list1, list2, list3, list4], index=index_labels, columns=column_names)\n",
        "\n",
        "# Showing the selected values from DataFrame\n",
        "print(data_frame[data_frame['Age'] < 30])"
      ],
      "execution_count": 0,
      "outputs": []
    },
    {
      "cell_type": "code",
      "metadata": {
        "id": "XG6RZJzi24PS",
        "colab_type": "code",
        "colab": {}
      },
      "source": [
        "# Importing pandas and StringIO libraries\n",
        "import pandas as pd\n",
        "from io import StringIO\n",
        "\n",
        "# Defining text data\n",
        "text_data = ('col1,col2,col3,col4\\n'\n",
        "             'A,0,X,7\\n'\n",
        "             'B,1,Y,8\\n'\n",
        "             'C,2,Z,9')\n",
        "\n",
        "# read text data (csv)\n",
        "pd.read_csv(StringIO(text_data))"
      ],
      "execution_count": 0,
      "outputs": []
    },
    {
      "cell_type": "code",
      "metadata": {
        "id": "m8Qgl0DaRD8E",
        "colab_type": "code",
        "colab": {}
      },
      "source": [
        "# Importing pandas library with alias name pd\n",
        "import pandas as pd\n",
        "\n",
        "# Reading csv file\n",
        "data_frame = pd.read_csv('02-14-2020_1123.csv'); \n",
        "\n",
        "# Converting object to datetime\n",
        "data_frame['Last Update'] = pd.to_datetime(data_frame['Last Update'])\n",
        "\n",
        "# Calculating recovery rate in percentage\n",
        "data_frame['Recovered(in %)'] = (data_frame['Recovered'] / data_frame['Confirmed']) * 100\n",
        "\n",
        "# Showing new Data values\n",
        "print('---------- Transformed Data ----------')\n",
        "print(data_frame[['Province/State', 'Last Update', 'Confirmed', 'Recovered', 'Recovered(in %)']])\n"
      ],
      "execution_count": 0,
      "outputs": []
    },
    {
      "cell_type": "code",
      "metadata": {
        "id": "wGhB0T29Rp7t",
        "colab_type": "code",
        "colab": {}
      },
      "source": [
        "# Importing pandas library along with matplotlib\n",
        "import pandas as pd\n",
        "import matplotlib.pyplot as plt\n",
        "%matplotlib inline\n",
        "\n",
        "# Reading csv file\n",
        "data_frame = pd.read_csv('02-14-2020_1123.csv'); \n",
        "\n",
        "# Converting object to datetime\n",
        "data_frame['Last Update'] = pd.to_datetime(data_frame['Last Update'])\n",
        "\n",
        "data_frame = data_frame[data_frame['Recovered'] > 100]\n",
        "\n",
        "# Calculating recovery rate in percentage\n",
        "data_frame['Recovered(in %)'] = (data_frame['Recovered'] / data_frame['Confirmed']) * 100\n",
        "\n",
        "# Sorting DataFrame rows based on values in Recovered(in %) column\n",
        "data_frame = data_frame.sort_values('Recovered(in %)', ascending=False)\n",
        "\n",
        "# Plotting a horizontal bar chart showing top provinces or states in recovery rate\n",
        "ax = data_frame.plot.barh(x='Province/State', y='Recovered(in %)', rot=0)\n"
      ],
      "execution_count": 0,
      "outputs": []
    },
    {
      "cell_type": "code",
      "metadata": {
        "id": "uOaPImpJ7ZJU",
        "colab_type": "code",
        "colab": {}
      },
      "source": [
        "from datetime import datetime\n",
        "datetime(year=2020, month=6, day=1)"
      ],
      "execution_count": 0,
      "outputs": []
    },
    {
      "cell_type": "code",
      "metadata": {
        "id": "KzFBF-doXCUS",
        "colab_type": "code",
        "colab": {}
      },
      "source": [
        "import pandas as pd\n",
        "from pandas.tseries.offsets import DateOffset\n",
        "ts = pd.Timestamp('2020-05-29 11:22:33')\n",
        "ts + DateOffset(days = 3, hours = 2, minutes = 1)"
      ],
      "execution_count": 0,
      "outputs": []
    },
    {
      "cell_type": "code",
      "metadata": {
        "id": "JUHp1kuhVLvh",
        "colab_type": "code",
        "colab": {}
      },
      "source": [
        "import pandas as pd\n",
        "from datetime import datetime\n",
        "datetime(year=2020, month=6, day=1) + pd.Timedelta('1 days')\n"
      ],
      "execution_count": 0,
      "outputs": []
    },
    {
      "cell_type": "code",
      "metadata": {
        "id": "NQWgQkr4ZGB_",
        "colab_type": "code",
        "colab": {}
      },
      "source": [
        "import pandas as pd\n",
        "pd.date_range('2020-06-01', periods=5, freq='D')\n"
      ],
      "execution_count": 0,
      "outputs": []
    },
    {
      "cell_type": "code",
      "metadata": {
        "id": "2zlbv8hcaegH",
        "colab_type": "code",
        "colab": {}
      },
      "source": [
        ""
      ],
      "execution_count": 0,
      "outputs": []
    }
  ]
}