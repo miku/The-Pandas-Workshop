{
  "nbformat": 4,
  "nbformat_minor": 0,
  "metadata": {
    "colab": {
      "name": "Activity_01_01.ipynb",
      "provenance": [],
      "collapsed_sections": []
    },
    "kernelspec": {
      "name": "python3",
      "display_name": "Python 3"
    }
  },
  "cells": [
    {
      "cell_type": "code",
      "metadata": {
        "id": "57OmKHPjr6lt",
        "colab_type": "code",
        "colab": {}
      },
      "source": [
        "# Importing pandas library with alias name pd\n",
        "import pandas as pd"
      ],
      "execution_count": 0,
      "outputs": []
    },
    {
      "cell_type": "code",
      "metadata": {
        "id": "fPHqY_-7sBDF",
        "colab_type": "code",
        "colab": {}
      },
      "source": [
        "# Defining columns\n",
        "column_names = ['Applicant Id', 'Applicant Name', 'Test Date', \n",
        "                'Mathematics Score', 'Physics Score', 'Chemistry Score']\n",
        " \n",
        "# Defining lists of test records\n",
        "testRecord1 = list([1001,'James', '2020-02-01', 70, 62, 81])\n",
        "testRecord2 = list([1002,'Pritam', '2020-04-07', 86, 61, 73])\n",
        "testRecord3 = list([1003,'Pritha', '2020-02-01', 86, 67, 68])\n",
        "testRecord4 = list([1004,'David', '2020-05-15', 55, 82, 62])\n",
        "testRecord5 = list([1005,'Kaushik', '2020-05-15', 76, 84, 57])\n",
        "testRecord6 = list([1006,'Somnath', '2020-05-26', 80, 84, 49])\n",
        "testRecord7 = list([1007,'Peter', '2020-06-03', 79, 73, 63])\n",
        "\n",
        "# Defining a DataFrame from multiple Serieses\n",
        "data_frame = pd.DataFrame([testRecord1, testRecord2, testRecord3, testRecord4, \n",
        "                           testRecord5, testRecord6, testRecord7], \n",
        "                          columns=column_names)"
      ],
      "execution_count": 0,
      "outputs": []
    },
    {
      "cell_type": "code",
      "metadata": {
        "id": "8AIxNkADsbQX",
        "colab_type": "code",
        "colab": {}
      },
      "source": [
        "# Seeing data types of the columns\n",
        "data_frame.dtypes"
      ],
      "execution_count": 0,
      "outputs": []
    },
    {
      "cell_type": "code",
      "metadata": {
        "id": "GpraFaNusEXe",
        "colab_type": "code",
        "colab": {}
      },
      "source": [
        "# Transforming object format to datetime format\n",
        "data_frame['Test Date'] = pd.to_datetime(data_frame['Test Date'], format = '%Y-%m-%d')\n",
        "\n",
        "data_frame.dtypes"
      ],
      "execution_count": 0,
      "outputs": []
    },
    {
      "cell_type": "code",
      "metadata": {
        "id": "nLjw24VhsXJ3",
        "colab_type": "code",
        "colab": {}
      },
      "source": [
        "# Filtering data\n",
        "filtered_data_frame = data_frame[(data_frame['Test Date'] >= '2020-05-01') & (data_frame['Test Date'] < '2020-06-30')]\n",
        "\n",
        "filtered_data_frame"
      ],
      "execution_count": 0,
      "outputs": []
    },
    {
      "cell_type": "code",
      "metadata": {
        "id": "rLqtG5yDuoGP",
        "colab_type": "code",
        "colab": {}
      },
      "source": [
        "# Calculating avarage score\n",
        "filtered_data_frame['Average Score'] = (filtered_data_frame['Mathematics Score'] + filtered_data_frame['Physics Score'] + filtered_data_frame['Chemistry Score']) / 3\n",
        "\n",
        "filtered_data_frame"
      ],
      "execution_count": 0,
      "outputs": []
    },
    {
      "cell_type": "code",
      "metadata": {
        "id": "j5FY1rTPyLB8",
        "colab_type": "code",
        "colab": {}
      },
      "source": [
        ""
      ],
      "execution_count": 0,
      "outputs": []
    }
  ]
}