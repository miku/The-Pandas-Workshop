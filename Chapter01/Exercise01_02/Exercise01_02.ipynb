{
  "nbformat": 4,
  "nbformat_minor": 0,
  "metadata": {
    "colab": {
      "name": "Exercise01_02.ipynb",
      "provenance": [],
      "collapsed_sections": []
    },
    "kernelspec": {
      "name": "python3",
      "display_name": "Python 3"
    }
  },
  "cells": [
    {
      "cell_type": "code",
      "metadata": {
        "id": "-nC-FDk7SIgI",
        "colab_type": "code",
        "colab": {}
      },
      "source": [
        "# Importing pandas library with alias name pd\n",
        "import pandas as pd"
      ],
      "execution_count": 0,
      "outputs": []
    },
    {
      "cell_type": "code",
      "metadata": {
        "id": "nV30z51oShXl",
        "colab_type": "code",
        "colab": {}
      },
      "source": [
        "# Defining columns\n",
        "column_names = ['Applicant Id', 'Applicant Name', 'Test Date', \n",
        "                'Mathematics Score', 'Physics Score', 'Chemistry Score']\n",
        " \n",
        "# Defining lists of test records\n",
        "testRecord1 = list([1001,'James', '01-02-2020', 70, 62, 81])\n",
        "testRecord2 = list([1002,'Pritam', '07-04-2020', 86, 61, 73])\n",
        "testRecord3 = list([1003,'Pritha', '01-02-2020', 86, 67, 68])\n",
        "testRecord4 = list([1004,'David', '15-05-2020', 55, 82, 62])\n",
        "testRecord5 = list([1005,'Kaushik', '15-05-2020', 76, 84, 57])\n",
        "testRecord6 = list([1006,'Somnath', '26-05-2020', 80, 84, 49])\n",
        "testRecord7 = list([1007,'Peter', '03-06-2020', 79, 73, 63])\n",
        "\n",
        "# Defining a DataFrame from multiple Serieses\n",
        "data_frame = pd.DataFrame([testRecord1, testRecord2, testRecord3, testRecord4, \n",
        "                           testRecord5, testRecord6, testRecord7], \n",
        "                          columns=column_names)"
      ],
      "execution_count": 0,
      "outputs": []
    },
    {
      "cell_type": "code",
      "metadata": {
        "id": "9GZ0bv5hSs2n",
        "colab_type": "code",
        "colab": {}
      },
      "source": [
        "# Calculating final weighted score\n",
        "data_frame['Final Test Score'] = (data_frame['Mathematics Score'] * 0.5) + (data_frame['Physics Score'] * 0.3) + (data_frame['Physics Score'] * 0.2)\n",
        "\n",
        "data_frame"
      ],
      "execution_count": 0,
      "outputs": []
    },
    {
      "cell_type": "code",
      "metadata": {
        "id": "gXKN9IGMxKaW",
        "colab_type": "code",
        "colab": {}
      },
      "source": [
        ""
      ],
      "execution_count": 0,
      "outputs": []
    }
  ]
}