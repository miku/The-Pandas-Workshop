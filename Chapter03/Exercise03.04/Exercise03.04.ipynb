{
 "cells": [
  {
   "cell_type": "markdown",
   "metadata": {},
   "source": [
    "# Exercise 03.04 | Exporting to SQLite3\n",
    "\n",
    "We continue to use our internet users dataset (from exercises 2 and 3).\n",
    "\n",
    "Somehow, the data ended up as HDF5 (the key is \"iu\"), but we would like to prepare the data for a web application, which will require the data as an relational database. We convinced the web team to start with sqlite3.\n",
    "\n",
    "You task:\n",
    "\n",
    "* Read the HDF5 into a DataFrame (key: \"iu\").\n",
    "* Export the DataFrame as sqlite database.\n",
    "\n",
    "The web team requires the following database schema:\n",
    "\n",
    "```\n",
    "CREATE TABLE internet_users (\n",
    "        \"index\" BIGINT, \n",
    "        \"Country\" TEXT, \n",
    "        \"Population\" BIGINT, \n",
    "        \"Internet users\" BIGINT, \n",
    "        \"Ratio\" FLOAT\n",
    ");\n",
    "```\n",
    "\n",
    "----\n",
    "\n",
    "# Discussion\n",
    "\n",
    "\n",
    "Import Pandas and load the HDF5 file."
   ]
  },
  {
   "cell_type": "code",
   "execution_count": 19,
   "metadata": {},
   "outputs": [],
   "source": [
    "import pandas as pd"
   ]
  },
  {
   "cell_type": "code",
   "execution_count": 20,
   "metadata": {},
   "outputs": [],
   "source": [
    "df = pd.read_hdf(\"mdf.h5\", key=\"iu\")"
   ]
  },
  {
   "cell_type": "code",
   "execution_count": 21,
   "metadata": {},
   "outputs": [],
   "source": [
    "df.to_sql(\"internet_users\", \"sqlite:///mdf.db\", if_exists=\"replace\")"
   ]
  },
  {
   "cell_type": "markdown",
   "metadata": {},
   "source": [
    "We can verify the schema."
   ]
  },
  {
   "cell_type": "code",
   "execution_count": 22,
   "metadata": {},
   "outputs": [
    {
     "name": "stdout",
     "output_type": "stream",
     "text": [
      "CREATE TABLE internet_users (\r\n",
      "\t\"index\" BIGINT, \r\n",
      "\t\"Country\" TEXT, \r\n",
      "\t\"Population\" BIGINT, \r\n",
      "\t\"Internet users\" BIGINT, \r\n",
      "\t\"Ratio\" FLOAT\r\n",
      ");\r\n",
      "CREATE INDEX ix_internet_users_index ON internet_users (\"index\");\r\n"
     ]
    }
   ],
   "source": [
    "!sqlite3 mdf.db .schema"
   ]
  },
  {
   "cell_type": "code",
   "execution_count": null,
   "metadata": {},
   "outputs": [],
   "source": []
  }
 ],
 "metadata": {
  "jupytext": {
   "cell_metadata_filter": "-all",
   "formats": "ipynb,md",
   "main_language": "python",
   "notebook_metadata_filter": "-all"
  },
  "kernelspec": {
   "display_name": "Python 3",
   "language": "python",
   "name": "python3"
  },
  "language_info": {
   "codemirror_mode": {
    "name": "ipython",
    "version": 3
   },
   "file_extension": ".py",
   "mimetype": "text/x-python",
   "name": "python",
   "nbconvert_exporter": "python",
   "pygments_lexer": "ipython3",
   "version": "3.7.4"
  }
 },
 "nbformat": 4,
 "nbformat_minor": 4
}
