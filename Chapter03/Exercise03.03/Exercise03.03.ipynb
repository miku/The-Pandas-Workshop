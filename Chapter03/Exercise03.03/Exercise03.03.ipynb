{
 "cells": [
  {
   "cell_type": "markdown",
   "metadata": {},
   "source": [
    "# Exercise 03.03 | Internet users around the world (Excel)\n",
    "\n",
    "You colleague (or yourself) has prepared a JSON file with information, that other people are interested in, but they prefer an Excel file.\n",
    "\n",
    "Your task is:\n",
    "\n",
    "* Load the \"mdf.json\" file into a DataFrame.\n",
    "* Export the DataFrame as Excel, do not save the index, format the ratio with two decimal places and name the Sheet \"Internet users\".\n",
    "\n",
    "Bonus task.\n",
    "\n",
    "Microsoft Excel will display large integers in scientific notation, which may or may not be the right thing to do. A workaround is to convert int columns with large number into text first. Apply this workaround.\n",
    "\n",
    "* [https://superuser.com/q/452832/38447](https://superuser.com/q/452832)\n",
    "\n",
    "----\n",
    "\n",
    "# Discussion\n",
    "\n",
    "\n",
    "Import Pandas and load the JSON file."
   ]
  },
  {
   "cell_type": "code",
   "execution_count": 21,
   "metadata": {},
   "outputs": [],
   "source": [
    "import pandas as pd"
   ]
  },
  {
   "cell_type": "code",
   "execution_count": 22,
   "metadata": {},
   "outputs": [],
   "source": [
    "df = pd.read_json(\"mdf.json\")"
   ]
  },
  {
   "cell_type": "code",
   "execution_count": 23,
   "metadata": {},
   "outputs": [
    {
     "data": {
      "text/html": [
       "<div>\n",
       "<style scoped>\n",
       "    .dataframe tbody tr th:only-of-type {\n",
       "        vertical-align: middle;\n",
       "    }\n",
       "\n",
       "    .dataframe tbody tr th {\n",
       "        vertical-align: top;\n",
       "    }\n",
       "\n",
       "    .dataframe thead th {\n",
       "        text-align: right;\n",
       "    }\n",
       "</style>\n",
       "<table border=\"1\" class=\"dataframe\">\n",
       "  <thead>\n",
       "    <tr style=\"text-align: right;\">\n",
       "      <th></th>\n",
       "      <th>Country</th>\n",
       "      <th>Population</th>\n",
       "      <th>Internet users</th>\n",
       "      <th>Ratio</th>\n",
       "    </tr>\n",
       "  </thead>\n",
       "  <tbody>\n",
       "    <tr>\n",
       "      <th>0</th>\n",
       "      <td>China</td>\n",
       "      <td>1394015977</td>\n",
       "      <td>730723960</td>\n",
       "      <td>0.52</td>\n",
       "    </tr>\n",
       "    <tr>\n",
       "      <th>1</th>\n",
       "      <td>India</td>\n",
       "      <td>1326093247</td>\n",
       "      <td>374328160</td>\n",
       "      <td>0.28</td>\n",
       "    </tr>\n",
       "    <tr>\n",
       "      <th>2</th>\n",
       "      <td>United States</td>\n",
       "      <td>332639102</td>\n",
       "      <td>246809221</td>\n",
       "      <td>0.74</td>\n",
       "    </tr>\n",
       "    <tr>\n",
       "      <th>3</th>\n",
       "      <td>Indonesia</td>\n",
       "      <td>267026366</td>\n",
       "      <td>65525226</td>\n",
       "      <td>0.25</td>\n",
       "    </tr>\n",
       "    <tr>\n",
       "      <th>4</th>\n",
       "      <td>Pakistan</td>\n",
       "      <td>233500636</td>\n",
       "      <td>31338715</td>\n",
       "      <td>0.13</td>\n",
       "    </tr>\n",
       "  </tbody>\n",
       "</table>\n",
       "</div>"
      ],
      "text/plain": [
       "         Country  Population  Internet users  Ratio\n",
       "0          China  1394015977       730723960   0.52\n",
       "1          India  1326093247       374328160   0.28\n",
       "2  United States   332639102       246809221   0.74\n",
       "3      Indonesia   267026366        65525226   0.25\n",
       "4       Pakistan   233500636        31338715   0.13"
      ]
     },
     "execution_count": 23,
     "metadata": {},
     "output_type": "execute_result"
    }
   ],
   "source": [
    "df.head()"
   ]
  },
  {
   "cell_type": "markdown",
   "metadata": {},
   "source": [
    "Use the appropriate parameters for the Excel export."
   ]
  },
  {
   "cell_type": "code",
   "execution_count": 11,
   "metadata": {},
   "outputs": [],
   "source": [
    "df.to_excel(\"mdf.xlsx\", sheet_name=\"Internet users\", float_format=\"%.2f\", index=False)"
   ]
  },
  {
   "cell_type": "markdown",
   "metadata": {},
   "source": [
    "Bonus solution, create a new DataFrame with adjusted dtypes, the export it."
   ]
  },
  {
   "cell_type": "code",
   "execution_count": 16,
   "metadata": {},
   "outputs": [],
   "source": [
    "bonus = pd.DataFrame({\"Country\": df[\"Country\"],\n",
    "                      \"Population\": df[\"Population\"].astype(str),\n",
    "                      \"Internet users\":  df[\"Internet users\"].astype(str),\n",
    "                      \"Ratio\": df[\"Ratio\"]})"
   ]
  },
  {
   "cell_type": "code",
   "execution_count": 17,
   "metadata": {},
   "outputs": [],
   "source": [
    "bonus.to_excel(\"bonus.xlsx\", sheet_name=\"Internet users\", float_format=\"%.2f\", index=False)"
   ]
  }
 ],
 "metadata": {
  "jupytext": {
   "cell_metadata_filter": "-all",
   "formats": "ipynb,md",
   "main_language": "python",
   "notebook_metadata_filter": "-all"
  },
  "kernelspec": {
   "display_name": "Python 3",
   "language": "python",
   "name": "python3"
  },
  "language_info": {
   "codemirror_mode": {
    "name": "ipython",
    "version": 3
   },
   "file_extension": ".py",
   "mimetype": "text/x-python",
   "name": "python",
   "nbconvert_exporter": "python",
   "pygments_lexer": "ipython3",
   "version": "3.7.4"
  }
 },
 "nbformat": 4,
 "nbformat_minor": 4
}
