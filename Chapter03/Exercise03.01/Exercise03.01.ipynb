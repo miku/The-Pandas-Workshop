{
 "cells": [
  {
   "cell_type": "markdown",
   "metadata": {},
   "source": [
    "# Exercise 03.01 | Reading Data on GitHub Users\n",
    "\n",
    "A user (Jaime Valero) made available a dataset on Kaggle about 17000 GitHub\n",
    "users and their programming language choices.\n",
    "\n",
    "Go to the Webpage, download the data and read it into a dataframe:\n",
    "\n",
    "* [https://www.kaggle.com/jaimevalero/developers-and-programming-languages](https://www.kaggle.com/jaimevalero/developers-and-programming-languages)\n",
    "\n",
    "![](kaggle.png)\n",
    "\n",
    "----\n",
    "\n",
    "# Discussion\n",
    "\n",
    "You will find the download is a zip file (with SHA1 229d934ce5edf1131e0378ec71b1af529363cfd0).\n",
    "\n",
    "```\n",
    "$ sha1sum developers-and-programming-languages.zip\n",
    "229d934ce5edf1131e0378ec71b1af529363cfd0  developers-and-programming-languages.zip\n",
    "```\n",
    "\n",
    "Unzip it, first.\n",
    "\n",
    "```\n",
    "$ unzip developers-and-programming-languages.zip\n",
    "```\n",
    "\n",
    "Import the pandas module."
   ]
  },
  {
   "cell_type": "code",
   "execution_count": null,
   "metadata": {},
   "outputs": [],
   "source": [
    "import pandas as pd"
   ]
  },
  {
   "cell_type": "markdown",
   "metadata": {},
   "source": [
    "Then read the content into a DataFrame."
   ]
  },
  {
   "cell_type": "code",
   "execution_count": null,
   "metadata": {},
   "outputs": [],
   "source": [
    "df = pd.read_csv(\"user-languages.csv\")"
   ]
  },
  {
   "cell_type": "markdown",
   "metadata": {},
   "source": [
    "Check, wether you go the complete dataset by checking its shape."
   ]
  },
  {
   "cell_type": "code",
   "execution_count": null,
   "metadata": {
    "lines_to_next_cell": 0
   },
   "outputs": [],
   "source": [
    "df.shape"
   ]
  },
  {
   "cell_type": "markdown",
   "metadata": {},
   "source": []
  }
 ],
 "metadata": {
  "jupytext": {
   "cell_metadata_filter": "-all",
   "main_language": "python",
   "notebook_metadata_filter": "-all"
  }
 },
 "nbformat": 4,
 "nbformat_minor": 4
}
